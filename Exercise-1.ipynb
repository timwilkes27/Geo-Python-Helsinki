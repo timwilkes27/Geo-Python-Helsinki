{
 "cells": [
  {
   "cell_type": "code",
   "execution_count": 1,
   "id": "fca586a2-41d2-496c-a869-6a97649ae656",
   "metadata": {},
   "outputs": [],
   "source": [
    "ice_cream_rating = 8\n",
    "sleeping_rating = 5"
   ]
  },
  {
   "cell_type": "code",
   "execution_count": 16,
   "id": "4885ecfe-cf10-4d8c-a004-b4bba68c271b",
   "metadata": {},
   "outputs": [],
   "source": [
    "first_name = \"Tim\"\n",
    "last_name = \"Wilkes\"\n",
    "\n",
    "my_name = first_name + \" \" + last_name"
   ]
  },
  {
   "cell_type": "code",
   "execution_count": 9,
   "id": "5c3ea748-7cb8-40f1-8dde-45221fcb00ad",
   "metadata": {},
   "outputs": [],
   "source": [
    "happiness_rating = statistics.mean([ice_cream_rating, sleeping_rating])"
   ]
  },
  {
   "cell_type": "code",
   "execution_count": 5,
   "id": "d2981329-39a6-40b6-956f-a2ad66a29959",
   "metadata": {},
   "outputs": [],
   "source": [
    "import math"
   ]
  },
  {
   "cell_type": "code",
   "execution_count": 7,
   "id": "ee307acc-20be-4851-92c4-1ccd1c4a375c",
   "metadata": {},
   "outputs": [],
   "source": [
    "import statistics"
   ]
  },
  {
   "cell_type": "code",
   "execution_count": 10,
   "id": "e87ff07e-0f37-4309-bbbb-9c891b776874",
   "metadata": {},
   "outputs": [
    {
     "name": "stdout",
     "output_type": "stream",
     "text": [
      "6.5\n"
     ]
    }
   ],
   "source": [
    "print(happiness_rating)"
   ]
  },
  {
   "cell_type": "code",
   "execution_count": 14,
   "id": "04c0b967-e8c0-41d7-94d5-7acd439364bb",
   "metadata": {},
   "outputs": [
    {
     "name": "stdout",
     "output_type": "stream",
     "text": [
      "<class 'float'>\n",
      "<class 'int'>\n",
      "<class 'str'>\n"
     ]
    }
   ],
   "source": [
    "print(type(happiness_rating))\n",
    "print(type(ice_cream_rating))\n",
    "print(type(first_name))"
   ]
  },
  {
   "cell_type": "markdown",
   "id": "35a6357a-ba2a-41fb-81fb-2dbd1bd054b9",
   "metadata": {},
   "source": [
    "No, the answers were as expected. Mean will always become a float I think."
   ]
  },
  {
   "cell_type": "code",
   "execution_count": 17,
   "id": "d05ce6cb-fcf1-4645-aa80-e7ecc0a2c4f0",
   "metadata": {},
   "outputs": [
    {
     "name": "stdout",
     "output_type": "stream",
     "text": [
      "My name is Tim and I give eating ice cream a score of 8 out of 10!\n",
      "I am Tim Wilkes and my sleeping enjoyment rating is 5 / 10!\n",
      "Based on the factors above, my happiness raing is 6.5 out of 10, or 65.0\n"
     ]
    }
   ],
   "source": [
    "print(\"My name is\",  first_name, \"and I give eating ice cream a score of\", ice_cream_rating, \"out of 10!\")\n",
    "print(\"I am\", my_name, \"and my sleeping enjoyment rating is\", sleeping_rating, \"/ 10!\")\n",
    "print(\"Based on the factors above, my happiness raing is\", happiness_rating, \"out of 10, or\", happiness_rating*10)\n",
    "      "
   ]
  },
  {
   "cell_type": "code",
   "execution_count": null,
   "id": "571eb556-c44d-4384-9be3-aeebdd544bdf",
   "metadata": {},
   "outputs": [],
   "source": []
  }
 ],
 "metadata": {
  "kernelspec": {
   "display_name": "Python 3 (ipykernel)",
   "language": "python",
   "name": "python3"
  },
  "language_info": {
   "codemirror_mode": {
    "name": "ipython",
    "version": 3
   },
   "file_extension": ".py",
   "mimetype": "text/x-python",
   "name": "python",
   "nbconvert_exporter": "python",
   "pygments_lexer": "ipython3",
   "version": "3.10.14"
  }
 },
 "nbformat": 4,
 "nbformat_minor": 5
}
